{
 "cells": [
  {
   "cell_type": "code",
   "execution_count": 187,
   "metadata": {},
   "outputs": [
    {
     "name": "stdout",
     "output_type": "stream",
     "text": [
      "(1, 784)\n",
      "[8]\n"
     ]
    },
    {
     "data": {
      "image/png": "[encoded data removed]",
      "text/plain": [
       "<Figure size 500x500 with 1 Axes>"
      ]
     },
     "metadata": {},
     "output_type": "display_data"
    }
   ],
   "source": [
    "from PIL import Image\n",
    "import numpy as np\n",
    "import pandas as pd\n",
    "import numpy as np\n",
    "from sklearn.ensemble import RandomForestClassifier\n",
    "from sklearn.decomposition import PCA\n",
    "from sklearn.preprocessing import MinMaxScaler\n",
    "from sklearn.neighbors import KNeighborsClassifier\n",
    "import matplotlib.pyplot as plt\n",
    "import seaborn as sns\n",
    "# Load the image\n",
    "\n",
    "# \"C:\\Users\\banup\\Pictures\\Screenshots\\Screenshot 2023-12-31 165034.png\"\n",
    "# \"C:\\Users\\banup\\Desktop\\NLP_guvi_project\\Project _1 _Kannada_MNIST _ Classification_Problem\\sample_images\\class 0.png\"\n",
    "image = Image.open(r\"C:\\Users\\banup\\Desktop\\NLP_guvi_project\\Project _1 _Kannada_MNIST _ Classification_Problem\\sample_images\\class_8.jpg\")\n",
    "resized_image = image.resize((28,28))\n",
    "# Convert the image to grayscale\n",
    "grey_image = resized_image .convert(\"L\")\n",
    "# Convert the grayscale image to a NumPy array\n",
    "image_array = np.array(grey_image)\n",
    "#Reshaping the array for input\n",
    "final_image=image_array.reshape(1,784)\n",
    "\n",
    "print(final_image.shape)\n",
    "import pickle\n",
    "with open(\"svc_model.pkl\",\"rb\")as file:\n",
    "    model=pickle.load(file)\n",
    "with open(\"pca_svc.pkl\",\"rb\")as file:\n",
    "    pca=pickle.load(file)\n",
    "with open(\"mms_svc.pkl\",\"rb\")as file:\n",
    "    mms=pickle.load(file)\n",
    "sample = pca.transform(final_image)\n",
    "sample= mms.transform(sample)\n",
    "predict = model.predict(sample)\n",
    "print(predict)     \n",
    "\n",
    "plt.figure(figsize=(5,5))\n",
    "plt.imshow(final_image.reshape(28, 28),cmap=\"gray\") #Reshaping it into  28x28 image\n",
    "plt.axis(\"off\")\n",
    "plt.show() \n"
   ]
  }
 ],
 "metadata": {
  "kernelspec": {
   "display_name": "Python 3",
   "language": "python",
   "name": "python3"
  },
  "language_info": {
   "codemirror_mode": {
    "name": "ipython",
    "version": 3
   },
   "file_extension": ".py",
   "mimetype": "text/x-python",
   "name": "python",
   "nbconvert_exporter": "python",
   "pygments_lexer": "ipython3",
   "version": "3.11.4"
  }
 },
 "nbformat": 4,
 "nbformat_minor": 2
}
