{
 "cells": [
  {
   "cell_type": "markdown",
   "metadata": {},
   "source": [
    "----------------------------------Machine Learning Regression Model-----------------------------------------------------"
   ]
  },
  {
   "cell_type": "markdown",
   "metadata": {},
   "source": [
    "Importing Necessary Libraries"
   ]
  },
  {
   "cell_type": "code",
   "execution_count": 173,
   "metadata": {},
   "outputs": [],
   "source": [
    "\n",
    "import pandas as pd\n",
    "import numpy as np\n",
    "from sklearn.preprocessing import StandardScaler\n",
    "from sklearn.svm import SVR\n",
    "from sklearn.ensemble import RandomForestRegressor\n",
    "from sklearn.neural_network import MLPRegressor\n",
    "from sklearn.metrics import mean_squared_error,mean_absolute_error\n",
    "import matplotlib.pyplot as plt\n",
    "import pickle"
   ]
  },
  {
   "cell_type": "markdown",
   "metadata": {},
   "source": [
    "Loading Training and Testing Datasets"
   ]
  },
  {
   "cell_type": "code",
   "execution_count": 174,
   "metadata": {},
   "outputs": [],
   "source": [
    "train_df=pd.read_csv(\"train_data.csv\",names=[\"f1\", \"f2\",\"f3\",\"target\"])\n",
    "test_df = pd.read_csv(\"test_data.csv\",names=[\"f1\", \"f2\",\"f3\",\"target\"])\n",
    "#Copying DataFrames\n",
    "train_data = train_df.copy()\n",
    "test_data  = test_df.copy()"
   ]
  },
  {
   "cell_type": "code",
   "execution_count": 175,
   "metadata": {},
   "outputs": [
    {
     "data": {
      "text/html": [
       "<div>\n",
       "<style scoped>\n",
       "    .dataframe tbody tr th:only-of-type {\n",
       "        vertical-align: middle;\n",
       "    }\n",
       "\n",
       "    .dataframe tbody tr th {\n",
       "        vertical-align: top;\n",
       "    }\n",
       "\n",
       "    .dataframe thead th {\n",
       "        text-align: right;\n",
       "    }\n",
       "</style>\n",
       "<table border=\"1\" class=\"dataframe\">\n",
       "  <thead>\n",
       "    <tr style=\"text-align: right;\">\n",
       "      <th></th>\n",
       "      <th>f1</th>\n",
       "      <th>f2</th>\n",
       "      <th>f3</th>\n",
       "      <th>target</th>\n",
       "    </tr>\n",
       "  </thead>\n",
       "  <tbody>\n",
       "    <tr>\n",
       "      <th>0</th>\n",
       "      <td>6.501996</td>\n",
       "      <td>-8.536983</td>\n",
       "      <td>3.422935</td>\n",
       "      <td>119980.220246</td>\n",
       "    </tr>\n",
       "    <tr>\n",
       "      <th>1</th>\n",
       "      <td>1.328383</td>\n",
       "      <td>8.943578</td>\n",
       "      <td>-8.145307</td>\n",
       "      <td>29890.224974</td>\n",
       "    </tr>\n",
       "    <tr>\n",
       "      <th>2</th>\n",
       "      <td>0.161478</td>\n",
       "      <td>-7.928351</td>\n",
       "      <td>1.628924</td>\n",
       "      <td>3245.579405</td>\n",
       "    </tr>\n",
       "  </tbody>\n",
       "</table>\n",
       "</div>"
      ],
      "text/plain": [
       "         f1        f2        f3         target\n",
       "0  6.501996 -8.536983  3.422935  119980.220246\n",
       "1  1.328383  8.943578 -8.145307   29890.224974\n",
       "2  0.161478 -7.928351  1.628924    3245.579405"
      ]
     },
     "execution_count": 175,
     "metadata": {},
     "output_type": "execute_result"
    }
   ],
   "source": [
    "train_data.head(3)"
   ]
  },
  {
   "cell_type": "code",
   "execution_count": 176,
   "metadata": {},
   "outputs": [
    {
     "data": {
      "text/html": [
       "<div>\n",
       "<style scoped>\n",
       "    .dataframe tbody tr th:only-of-type {\n",
       "        vertical-align: middle;\n",
       "    }\n",
       "\n",
       "    .dataframe tbody tr th {\n",
       "        vertical-align: top;\n",
       "    }\n",
       "\n",
       "    .dataframe thead th {\n",
       "        text-align: right;\n",
       "    }\n",
       "</style>\n",
       "<table border=\"1\" class=\"dataframe\">\n",
       "  <thead>\n",
       "    <tr style=\"text-align: right;\">\n",
       "      <th></th>\n",
       "      <th>f1</th>\n",
       "      <th>f2</th>\n",
       "      <th>f3</th>\n",
       "      <th>target</th>\n",
       "    </tr>\n",
       "  </thead>\n",
       "  <tbody>\n",
       "    <tr>\n",
       "      <th>0</th>\n",
       "      <td>-1.453098</td>\n",
       "      <td>-3.535848</td>\n",
       "      <td>4.957581</td>\n",
       "      <td>5738.079257</td>\n",
       "    </tr>\n",
       "    <tr>\n",
       "      <th>1</th>\n",
       "      <td>-0.951478</td>\n",
       "      <td>-4.954119</td>\n",
       "      <td>-4.572673</td>\n",
       "      <td>391.728338</td>\n",
       "    </tr>\n",
       "    <tr>\n",
       "      <th>2</th>\n",
       "      <td>3.876805</td>\n",
       "      <td>9.707116</td>\n",
       "      <td>6.012681</td>\n",
       "      <td>72127.820634</td>\n",
       "    </tr>\n",
       "  </tbody>\n",
       "</table>\n",
       "</div>"
      ],
      "text/plain": [
       "         f1        f2        f3        target\n",
       "0 -1.453098 -3.535848  4.957581   5738.079257\n",
       "1 -0.951478 -4.954119 -4.572673    391.728338\n",
       "2  3.876805  9.707116  6.012681  72127.820634"
      ]
     },
     "execution_count": 176,
     "metadata": {},
     "output_type": "execute_result"
    }
   ],
   "source": [
    "test_data.head(3)"
   ]
  },
  {
   "cell_type": "code",
   "execution_count": 177,
   "metadata": {},
   "outputs": [
    {
     "name": "stdout",
     "output_type": "stream",
     "text": [
      "(10000, 4)\n",
      "(5000, 4)\n"
     ]
    }
   ],
   "source": [
    "#Checking the Shape Of the Data\n",
    "print(train_data.shape)\n",
    "print(test_data.shape)"
   ]
  },
  {
   "cell_type": "markdown",
   "metadata": {},
   "source": [
    "Checking For Data Skewness"
   ]
  },
  {
   "cell_type": "code",
   "execution_count": 178,
   "metadata": {},
   "outputs": [
    {
     "name": "stdout",
     "output_type": "stream",
     "text": [
      "Skewness of train_data :\n",
      " f1       -0.010381\n",
      "f2        0.029293\n",
      "f3        0.007262\n",
      "target    2.504328\n",
      "dtype: float64 \n",
      "\n",
      "Skewness of test_data :\n",
      " f1       -0.010449\n",
      "f2        0.013353\n",
      "f3        0.019162\n",
      "target    2.532295\n",
      "dtype: float64\n"
     ]
    }
   ],
   "source": [
    "print(\"Skewness of train_data :\\n\",train_data.skew(),\"\\n\")\n",
    "print(\"Skewness of test_data :\\n\",test_data.skew())"
   ]
  },
  {
   "cell_type": "code",
   "execution_count": 179,
   "metadata": {},
   "outputs": [
    {
     "data": {
      "image/png": "[encoded data removed]",
      "text/plain": [
       "<Figure size 1500x500 with 3 Axes>"
      ]
     },
     "metadata": {},
     "output_type": "display_data"
    }
   ],
   "source": [
    "#Plotting graph for Visualizing Skewness in Target Variable\n",
    "plt.figure(figsize=(15,5))\n",
    "plt.title(\"Target Data Distribution\")\n",
    "plt.subplot(1,2,1)\n",
    "plt.hist(train_data[\"target\"])\n",
    "plt.title(\"train_data_target\")\n",
    "plt.subplot(1,2,2)\n",
    "plt.hist(test_data[\"target\"])\n",
    "plt.title(\"test_data_target\")\n",
    "plt.tight_layout()\n",
    "plt.show()"
   ]
  },
  {
   "cell_type": "code",
   "execution_count": 180,
   "metadata": {},
   "outputs": [],
   "source": [
    "#Logarithmic Transformation to Resolve Skewness in Target Variable(Label)\n",
    "train_data['target'] = np.log1p(train_data['target'])\n",
    "test_data['target'] = np.log1p(test_data['target'])"
   ]
  },
  {
   "cell_type": "code",
   "execution_count": 181,
   "metadata": {},
   "outputs": [
    {
     "data": {
      "image/png": "[encoded data removed]",
      "text/plain": [
       "<Figure size 1500x500 with 3 Axes>"
      ]
     },
     "metadata": {},
     "output_type": "display_data"
    },
    {
     "name": "stdout",
     "output_type": "stream",
     "text": [
      "Skewness of train_data :\n",
      " f1       -0.010381\n",
      "f2        0.029293\n",
      "f3        0.007262\n",
      "target   -1.039491\n",
      "dtype: float64 \n",
      "\n",
      "Skewness of test_data :\n",
      " f1       -0.010449\n",
      "f2        0.013353\n",
      "f3        0.019162\n",
      "target   -1.018081\n",
      "dtype: float64\n"
     ]
    }
   ],
   "source": [
    "#Plotting graph for Visualizing Target Distribution after Logarithmic Transformation\n",
    "plt.figure(figsize=(15,5))\n",
    "plt.title(\"Target Data Distribution After Log Transformation\")\n",
    "plt.subplot(1,2,1)\n",
    "plt.hist(train_data[\"target\"])\n",
    "plt.title(\"train_data_target\")\n",
    "plt.subplot(1,2,2)\n",
    "plt.hist(test_data[\"target\"])\n",
    "plt.title(\"test_data_target\")\n",
    "plt.tight_layout()\n",
    "plt.show()\n",
    "print(\"Skewness of train_data :\\n\",train_data.skew(),\"\\n\")\n",
    "print(\"Skewness of test_data :\\n\",test_data.skew())"
   ]
  },
  {
   "cell_type": "markdown",
   "metadata": {},
   "source": [
    "Splitting the Datas for Training and Testing"
   ]
  },
  {
   "cell_type": "code",
   "execution_count": 182,
   "metadata": {},
   "outputs": [],
   "source": [
    "#Training datasets\n",
    "X_train = train_data.iloc[:,:-1]\n",
    "y_train = train_data.iloc[:,-1]\n",
    "\n",
    "#Testing datasets\n",
    "X_test = test_data.iloc[:4990,:-1]\n",
    "y_test = test_data.iloc[:4990,-1]"
   ]
  },
  {
   "cell_type": "markdown",
   "metadata": {},
   "source": [
    "Feature Scaling"
   ]
  },
  {
   "cell_type": "code",
   "execution_count": 183,
   "metadata": {},
   "outputs": [],
   "source": [
    "#Using StandardScalar,the Features are Preprocessed\n",
    "sc = StandardScaler()\n",
    "X_train = sc.fit_transform(X_train)\n",
    "X_test = sc.transform(X_test)\n",
    "#-----------------------------------------------------------------------------------------------------------------------\n",
    "#Saving sc model\n",
    "with open (\"sc.pkl\",\"wb\") as file:\n",
    "    pickle.dump(sc,file)"
   ]
  },
  {
   "cell_type": "markdown",
   "metadata": {},
   "source": [
    " Function for fitting different models"
   ]
  },
  {
   "cell_type": "code",
   "execution_count": 184,
   "metadata": {},
   "outputs": [],
   "source": [
    "\n",
    "def linear_models(model):\n",
    "    mod=model.fit(X_train,y_train)\n",
    "    y_pred=mod.predict(X_test)\n",
    "    \n",
    "    #Saving MLP Model \n",
    "    if isinstance(model,MLPRegressor) and model.learning_rate_init==0.001 and model.hidden_layer_sizes==(64, 32) and model.activation=='relu'and model.max_iter==1000:\n",
    "       with open (\"mlp_model.pkl\",\"wb\") as file:\n",
    "           pickle.dump(mod,file)\n",
    "           \n",
    "    mse = mean_squared_error(y_test,y_pred)\n",
    "    mae= mean_absolute_error(y_test,y_pred)\n",
    "    return mse,mae"
   ]
  },
  {
   "cell_type": "code",
   "execution_count": 185,
   "metadata": {},
   "outputs": [
    {
     "name": "stdout",
     "output_type": "stream",
     "text": [
      "-------------------------------------Evaluation Metrics----------------------------------------------------------\n",
      "Support Vector Regressor:\n",
      "   Mean Squared Error= 1.384\n",
      "   Mean Absolute Error= 0.543\n",
      "-------------------------------------------------------------------------------------------------------------------------\n",
      "Random Forest Regressor:\n",
      "   Mean Squared Error= 0.367\n",
      "   Mean Absolute Error= 0.253\n",
      "-------------------------------------------------------------------------------------------------------------------------\n",
      "MLPRegressor:\n",
      "   Mean Squared Error= 0.295\n",
      "   Mean Absolute Error= 0.27\n",
      "-------------------------------------------------------------------------------------------------------------------------\n"
     ]
    }
   ],
   "source": [
    "#List of MAE and MSE for plotting graph\n",
    "MSE=[]\n",
    "MAE=[]\n",
    "#Model list\n",
    "model_list=[SVR(kernel=\"rbf\",C=1.0),RandomForestRegressor(random_state=42),MLPRegressor(learning_rate_init=0.001, hidden_layer_sizes=(64, 32), activation='relu', max_iter=1000)]\n",
    "model_name_list=[\"Support Vector Regressor\",\"Random Forest Regressor\",\"MLPRegressor\"]\n",
    "print(\"-------------------------------------Evaluation Metrics----------------------------------------------------------\")\n",
    "for model,model_name in zip(model_list,model_name_list):\n",
    "    mse,mae=linear_models(model)\n",
    "    MSE.append(mse)\n",
    "    MAE.append(mae)\n",
    "    print(f\"{model_name}:\")\n",
    "    print(\"   Mean Squared Error=\",round(mse,3))\n",
    "    print(\"   Mean Absolute Error=\",round(mae,3))\n",
    "    print(\"-------------------------------------------------------------------------------------------------------------------------\")"
   ]
  },
  {
   "cell_type": "markdown",
   "metadata": {},
   "source": [
    "Plotting Graph"
   ]
  },
  {
   "cell_type": "code",
   "execution_count": 186,
   "metadata": {},
   "outputs": [
    {
     "data": {
      "image/png": "[encoded data removed]",
      "text/plain": [
       "<Figure size 1500x500 with 2 Axes>"
      ]
     },
     "metadata": {},
     "output_type": "display_data"
    }
   ],
   "source": [
    "#MSE graph\n",
    "plt.figure(figsize=(15,5))\n",
    "plt.subplot(1,2,1)\n",
    "plt.bar([\"SVR\",\"RF\",\"MLP\"],MSE,color=['blue','green','red'])\n",
    "plt.title(\"Mean Squared Error by Model\")\n",
    "plt.xlabel(\"Regression Models\")\n",
    "plt.ylabel(\"MSE\")\n",
    "#MAE graph\n",
    "plt.subplot(1,2,2)\n",
    "plt.bar([\"SVR\",\"RF\",\"MLP\"],MAE,color=['blue','green','red'])\n",
    "plt.title(\"Mean Absolute Error by Model\")\n",
    "plt.xlabel(\"Regression Models\")\n",
    "plt.ylabel(\"MAE\")\n",
    "plt.tight_layout()\n",
    "plt.show()"
   ]
  },
  {
   "cell_type": "markdown",
   "metadata": {},
   "source": [
    "Without Retransforming the Target Variable"
   ]
  },
  {
   "cell_type": "code",
   "execution_count": 187,
   "metadata": {},
   "outputs": [
    {
     "data": {
      "text/html": [
       "<div>\n",
       "<style scoped>\n",
       "    .dataframe tbody tr th:only-of-type {\n",
       "        vertical-align: middle;\n",
       "    }\n",
       "\n",
       "    .dataframe tbody tr th {\n",
       "        vertical-align: top;\n",
       "    }\n",
       "\n",
       "    .dataframe thead th {\n",
       "        text-align: right;\n",
       "    }\n",
       "</style>\n",
       "<table border=\"1\" class=\"dataframe\">\n",
       "  <thead>\n",
       "    <tr style=\"text-align: right;\">\n",
       "      <th></th>\n",
       "      <th>Actual Value</th>\n",
       "      <th>Predicted Value</th>\n",
       "    </tr>\n",
       "  </thead>\n",
       "  <tbody>\n",
       "    <tr>\n",
       "      <th>0</th>\n",
       "      <td>2.839773</td>\n",
       "      <td>4.136628</td>\n",
       "    </tr>\n",
       "    <tr>\n",
       "      <th>1</th>\n",
       "      <td>11.130041</td>\n",
       "      <td>11.321058</td>\n",
       "    </tr>\n",
       "    <tr>\n",
       "      <th>2</th>\n",
       "      <td>12.799060</td>\n",
       "      <td>13.202919</td>\n",
       "    </tr>\n",
       "    <tr>\n",
       "      <th>3</th>\n",
       "      <td>8.097977</td>\n",
       "      <td>7.896264</td>\n",
       "    </tr>\n",
       "    <tr>\n",
       "      <th>4</th>\n",
       "      <td>11.696350</td>\n",
       "      <td>11.608391</td>\n",
       "    </tr>\n",
       "    <tr>\n",
       "      <th>5</th>\n",
       "      <td>11.975551</td>\n",
       "      <td>11.963373</td>\n",
       "    </tr>\n",
       "    <tr>\n",
       "      <th>6</th>\n",
       "      <td>5.789195</td>\n",
       "      <td>5.605338</td>\n",
       "    </tr>\n",
       "    <tr>\n",
       "      <th>7</th>\n",
       "      <td>10.928533</td>\n",
       "      <td>11.038257</td>\n",
       "    </tr>\n",
       "    <tr>\n",
       "      <th>8</th>\n",
       "      <td>12.942108</td>\n",
       "      <td>12.925891</td>\n",
       "    </tr>\n",
       "    <tr>\n",
       "      <th>9</th>\n",
       "      <td>12.607493</td>\n",
       "      <td>12.420079</td>\n",
       "    </tr>\n",
       "  </tbody>\n",
       "</table>\n",
       "</div>"
      ],
      "text/plain": [
       "   Actual Value  Predicted Value\n",
       "0      2.839773         4.136628\n",
       "1     11.130041        11.321058\n",
       "2     12.799060        13.202919\n",
       "3      8.097977         7.896264\n",
       "4     11.696350        11.608391\n",
       "5     11.975551        11.963373\n",
       "6      5.789195         5.605338\n",
       "7     10.928533        11.038257\n",
       "8     12.942108        12.925891\n",
       "9     12.607493        12.420079"
      ]
     },
     "execution_count": 187,
     "metadata": {},
     "output_type": "execute_result"
    }
   ],
   "source": [
    "df_sample=test_data.iloc[4990:,:].copy()\n",
    "actual_value=[]\n",
    "predicted_value=[]\n",
    "for index,row in df_sample.iterrows():\n",
    "    f1= row.iloc[0]\n",
    "    f2= row.iloc[1]\n",
    "    f3= row.iloc[2]\n",
    "    target=row.iloc[3]\n",
    "    actual_value.append(target)\n",
    "    #Creating a dataframe using input values\n",
    "    data={\"f1\":f1,\"f2\":f2,\"f3\":f3}\n",
    "    sample_df=pd.DataFrame(data,index=[0])\n",
    "    #---------------------------------------------------------------------------------------------------------------------\n",
    "    #Loading  trained models\n",
    "    with open (\"sc.pkl\",\"rb\") as file:\n",
    "       sc=pickle.load(file)\n",
    "    with open (\"mlp_model.pkl\",\"rb\") as file:\n",
    "        model=pickle.load(file)\n",
    "    #-------------------------------------------------------------------------------------------------------------------  \n",
    "    #Testing the model\n",
    "    sample_input=sc.transform(sample_df) #Standard Scalar\n",
    "    prediction=model.predict(sample_input) #Linear Regresssion\n",
    "    predicted_value.append(prediction[0])\n",
    "#---------------------------------------------------------------------------------------------------------------------     \n",
    "#Output DataFrame   \n",
    "output_df=pd.DataFrame({\"Actual Value\":actual_value,\"Predicted Value\":predicted_value})  \n",
    "output_df "
   ]
  },
  {
   "cell_type": "markdown",
   "metadata": {},
   "source": [
    "With Retransforming the Target Variable"
   ]
  },
  {
   "cell_type": "code",
   "execution_count": 188,
   "metadata": {},
   "outputs": [
    {
     "data": {
      "text/html": [
       "<div>\n",
       "<style scoped>\n",
       "    .dataframe tbody tr th:only-of-type {\n",
       "        vertical-align: middle;\n",
       "    }\n",
       "\n",
       "    .dataframe tbody tr th {\n",
       "        vertical-align: top;\n",
       "    }\n",
       "\n",
       "    .dataframe thead th {\n",
       "        text-align: right;\n",
       "    }\n",
       "</style>\n",
       "<table border=\"1\" class=\"dataframe\">\n",
       "  <thead>\n",
       "    <tr style=\"text-align: right;\">\n",
       "      <th></th>\n",
       "      <th>f1</th>\n",
       "      <th>f2</th>\n",
       "      <th>f3</th>\n",
       "      <th>target</th>\n",
       "    </tr>\n",
       "  </thead>\n",
       "  <tbody>\n",
       "    <tr>\n",
       "      <th>4990</th>\n",
       "      <td>1.386472</td>\n",
       "      <td>-4.655826</td>\n",
       "      <td>-3.635946</td>\n",
       "      <td>16.111887</td>\n",
       "    </tr>\n",
       "    <tr>\n",
       "      <th>4991</th>\n",
       "      <td>-6.835421</td>\n",
       "      <td>4.775112</td>\n",
       "      <td>0.347652</td>\n",
       "      <td>68188.199060</td>\n",
       "    </tr>\n",
       "    <tr>\n",
       "      <th>4992</th>\n",
       "      <td>9.569333</td>\n",
       "      <td>-4.569026</td>\n",
       "      <td>-8.409805</td>\n",
       "      <td>361876.112390</td>\n",
       "    </tr>\n",
       "    <tr>\n",
       "      <th>4993</th>\n",
       "      <td>5.969757</td>\n",
       "      <td>0.244242</td>\n",
       "      <td>-7.149024</td>\n",
       "      <td>3286.808708</td>\n",
       "    </tr>\n",
       "    <tr>\n",
       "      <th>4994</th>\n",
       "      <td>5.936275</td>\n",
       "      <td>2.655975</td>\n",
       "      <td>6.442307</td>\n",
       "      <td>120131.456287</td>\n",
       "    </tr>\n",
       "    <tr>\n",
       "      <th>4995</th>\n",
       "      <td>7.325928</td>\n",
       "      <td>-2.517590</td>\n",
       "      <td>0.681199</td>\n",
       "      <td>158822.870077</td>\n",
       "    </tr>\n",
       "    <tr>\n",
       "      <th>4996</th>\n",
       "      <td>5.063459</td>\n",
       "      <td>-1.450395</td>\n",
       "      <td>-7.034063</td>\n",
       "      <td>325.749863</td>\n",
       "    </tr>\n",
       "    <tr>\n",
       "      <th>4997</th>\n",
       "      <td>-6.716127</td>\n",
       "      <td>2.112438</td>\n",
       "      <td>2.746665</td>\n",
       "      <td>55743.437853</td>\n",
       "    </tr>\n",
       "    <tr>\n",
       "      <th>4998</th>\n",
       "      <td>8.971959</td>\n",
       "      <td>-3.130959</td>\n",
       "      <td>-5.372547</td>\n",
       "      <td>417527.327099</td>\n",
       "    </tr>\n",
       "    <tr>\n",
       "      <th>4999</th>\n",
       "      <td>7.204144</td>\n",
       "      <td>5.134398</td>\n",
       "      <td>6.773530</td>\n",
       "      <td>298787.904481</td>\n",
       "    </tr>\n",
       "  </tbody>\n",
       "</table>\n",
       "</div>"
      ],
      "text/plain": [
       "            f1        f2        f3         target\n",
       "4990  1.386472 -4.655826 -3.635946      16.111887\n",
       "4991 -6.835421  4.775112  0.347652   68188.199060\n",
       "4992  9.569333 -4.569026 -8.409805  361876.112390\n",
       "4993  5.969757  0.244242 -7.149024    3286.808708\n",
       "4994  5.936275  2.655975  6.442307  120131.456287\n",
       "4995  7.325928 -2.517590  0.681199  158822.870077\n",
       "4996  5.063459 -1.450395 -7.034063     325.749863\n",
       "4997 -6.716127  2.112438  2.746665   55743.437853\n",
       "4998  8.971959 -3.130959 -5.372547  417527.327099\n",
       "4999  7.204144  5.134398  6.773530  298787.904481"
      ]
     },
     "execution_count": 188,
     "metadata": {},
     "output_type": "execute_result"
    }
   ],
   "source": [
    "#Taking Last 10 Data From \"train_data\" For Evaluation\n",
    "df_sample=test_df.iloc[4990:,:].copy()\n",
    "df_sample"
   ]
  },
  {
   "cell_type": "code",
   "execution_count": 189,
   "metadata": {},
   "outputs": [
    {
     "data": {
      "text/html": [
       "<div>\n",
       "<style scoped>\n",
       "    .dataframe tbody tr th:only-of-type {\n",
       "        vertical-align: middle;\n",
       "    }\n",
       "\n",
       "    .dataframe tbody tr th {\n",
       "        vertical-align: top;\n",
       "    }\n",
       "\n",
       "    .dataframe thead th {\n",
       "        text-align: right;\n",
       "    }\n",
       "</style>\n",
       "<table border=\"1\" class=\"dataframe\">\n",
       "  <thead>\n",
       "    <tr style=\"text-align: right;\">\n",
       "      <th></th>\n",
       "      <th>Actual Value</th>\n",
       "      <th>Predicted Value</th>\n",
       "    </tr>\n",
       "  </thead>\n",
       "  <tbody>\n",
       "    <tr>\n",
       "      <th>0</th>\n",
       "      <td>16.111887</td>\n",
       "      <td>61.591404</td>\n",
       "    </tr>\n",
       "    <tr>\n",
       "      <th>1</th>\n",
       "      <td>68188.199060</td>\n",
       "      <td>82540.647586</td>\n",
       "    </tr>\n",
       "    <tr>\n",
       "      <th>2</th>\n",
       "      <td>361876.112390</td>\n",
       "      <td>541943.562875</td>\n",
       "    </tr>\n",
       "    <tr>\n",
       "      <th>3</th>\n",
       "      <td>3286.808708</td>\n",
       "      <td>2686.223434</td>\n",
       "    </tr>\n",
       "    <tr>\n",
       "      <th>4</th>\n",
       "      <td>120131.456287</td>\n",
       "      <td>110016.039222</td>\n",
       "    </tr>\n",
       "    <tr>\n",
       "      <th>5</th>\n",
       "      <td>158822.870077</td>\n",
       "      <td>156900.426868</td>\n",
       "    </tr>\n",
       "    <tr>\n",
       "      <th>6</th>\n",
       "      <td>325.749863</td>\n",
       "      <td>270.873744</td>\n",
       "    </tr>\n",
       "    <tr>\n",
       "      <th>7</th>\n",
       "      <td>55743.437853</td>\n",
       "      <td>62208.156626</td>\n",
       "    </tr>\n",
       "    <tr>\n",
       "      <th>8</th>\n",
       "      <td>417527.327099</td>\n",
       "      <td>410810.946651</td>\n",
       "    </tr>\n",
       "    <tr>\n",
       "      <th>9</th>\n",
       "      <td>298787.904481</td>\n",
       "      <td>247725.091074</td>\n",
       "    </tr>\n",
       "  </tbody>\n",
       "</table>\n",
       "</div>"
      ],
      "text/plain": [
       "    Actual Value  Predicted Value\n",
       "0      16.111887        61.591404\n",
       "1   68188.199060     82540.647586\n",
       "2  361876.112390    541943.562875\n",
       "3    3286.808708      2686.223434\n",
       "4  120131.456287    110016.039222\n",
       "5  158822.870077    156900.426868\n",
       "6     325.749863       270.873744\n",
       "7   55743.437853     62208.156626\n",
       "8  417527.327099    410810.946651\n",
       "9  298787.904481    247725.091074"
      ]
     },
     "execution_count": 189,
     "metadata": {},
     "output_type": "execute_result"
    }
   ],
   "source": [
    "df_sample=test_df.iloc[4990:,:].copy()\n",
    "actual_value=[]\n",
    "predicted_value=[]\n",
    "for index,row in df_sample.iterrows():\n",
    "    f1= row.iloc[0]\n",
    "    f2= row.iloc[1]\n",
    "    f3= row.iloc[2]\n",
    "    target=row.iloc[3]\n",
    "    actual_value.append(target)\n",
    "    #Creating a dataframe using input values\n",
    "    data={\"f1\":f1,\"f2\":f2,\"f3\":f3}\n",
    "    sample_df=pd.DataFrame(data,index=[0])\n",
    "    #---------------------------------------------------------------------------------------------------------------------\n",
    "    #Loading  trained models\n",
    "    with open (\"sc.pkl\",\"rb\") as file:\n",
    "       sc=pickle.load(file)\n",
    "    with open (\"mlp_model.pkl\",\"rb\") as file:\n",
    "        model=pickle.load(file)\n",
    "    #-------------------------------------------------------------------------------------------------------------------  \n",
    "    #Testing the model\n",
    "    sample_input=sc.transform(sample_df) #Standard Scalar\n",
    "    prediction=model.predict(sample_input) #Linear Regresssion\n",
    "    #------------------------------------------------------------------------------------------------------------------\n",
    "    # undo the logarithmic transformation\n",
    "    prediction = np.expm1(prediction)  # Reversing the logarithmic transformation\n",
    "    predicted_value.append(prediction[0]) \n",
    "#---------------------------------------------------------------------------------------------------------------------     \n",
    "#Output DataFrame   \n",
    "output_df=pd.DataFrame({\"Actual Value\":actual_value,\"Predicted Value\":predicted_value})  \n",
    "output_df "
   ]
  }
 ],
 "metadata": {
  "kernelspec": {
   "display_name": "Python 3",
   "language": "python",
   "name": "python3"
  },
  "language_info": {
   "codemirror_mode": {
    "name": "ipython",
    "version": 3
   },
   "file_extension": ".py",
   "mimetype": "text/x-python",
   "name": "python",
   "nbconvert_exporter": "python",
   "pygments_lexer": "ipython3",
   "version": "3.11.4"
  }
 },
 "nbformat": 4,
 "nbformat_minor": 2
}
